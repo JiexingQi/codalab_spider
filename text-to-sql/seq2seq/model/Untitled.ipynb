{
 "cells": [
  {
   "cell_type": "code",
   "execution_count": 4,
   "id": "a8581f12-ef2e-446b-8c42-0422186175db",
   "metadata": {},
   "outputs": [
    {
     "ename": "ImportError",
     "evalue": "attempted relative import with no known parent package",
     "output_type": "error",
     "traceback": [
      "\u001b[0;31m---------------------------------------------------------------------------\u001b[0m",
      "\u001b[0;31mImportError\u001b[0m                               Traceback (most recent call last)",
      "\u001b[0;32m/tmp/ipykernel_11307/2737541572.py\u001b[0m in \u001b[0;36m<module>\u001b[0;34m\u001b[0m\n\u001b[0;32m----> 1\u001b[0;31m \u001b[0;32mfrom\u001b[0m \u001b[0mmodel_utils\u001b[0m \u001b[0;32mimport\u001b[0m \u001b[0mget_relation_t5_model\u001b[0m\u001b[0;34m,\u001b[0m \u001b[0mget_relation_debug_t5_model\u001b[0m\u001b[0;34m\u001b[0m\u001b[0;34m\u001b[0m\u001b[0m\n\u001b[0m",
      "\u001b[0;32m~/text2sql/picard/seq2seq/model/model_utils.py\u001b[0m in \u001b[0;36m<module>\u001b[0;34m\u001b[0m\n\u001b[1;32m      3\u001b[0m \u001b[0;31m# from .t5_model import T5ForConditionalGeneration as T5_Relation\u001b[0m\u001b[0;34m\u001b[0m\u001b[0;34m\u001b[0m\u001b[0m\n\u001b[1;32m      4\u001b[0m \u001b[0;31m# from .t5_model_new import T5ForConditionalGeneration as T5_Relation\u001b[0m\u001b[0;34m\u001b[0m\u001b[0;34m\u001b[0m\u001b[0m\n\u001b[0;32m----> 5\u001b[0;31m \u001b[0;32mfrom\u001b[0m \u001b[0;34m.\u001b[0m\u001b[0mrelation_t5_model_new\u001b[0m \u001b[0;32mimport\u001b[0m \u001b[0mT5ForConditionalGeneration\u001b[0m \u001b[0;32mas\u001b[0m \u001b[0mT5_Relation\u001b[0m\u001b[0;34m\u001b[0m\u001b[0;34m\u001b[0m\u001b[0m\n\u001b[0m\u001b[1;32m      6\u001b[0m \u001b[0;31m# from .relation_t5_model_new_debug import T5ForConditionalGeneration as T5_Relation_debug # 从已有的relation model上减去某些模块进行debug\u001b[0m\u001b[0;34m\u001b[0m\u001b[0;34m\u001b[0m\u001b[0m\n\u001b[1;32m      7\u001b[0m \u001b[0;31m# from .original_t5_model_new_debug import T5ForConditionalGeneration as T5_Relation_debug # 从original模型上逐步加入某些模块进行debug\u001b[0m\u001b[0;34m\u001b[0m\u001b[0;34m\u001b[0m\u001b[0m\n",
      "\u001b[0;31mImportError\u001b[0m: attempted relative import with no known parent package"
     ]
    }
   ],
   "source": [
    "from model_utils import get_relation_t5_model, get_relation_debug_t5_model"
   ]
  },
  {
   "cell_type": "code",
   "execution_count": null,
   "id": "249af8e2-290c-4337-9348-15c90b429795",
   "metadata": {},
   "outputs": [],
   "source": []
  },
  {
   "cell_type": "code",
   "execution_count": 1,
   "id": "d4436a45-037c-4279-b13a-285db581d27d",
   "metadata": {},
   "outputs": [],
   "source": [
    "import torch\n",
    "import numpy as np\n",
    "\n"
   ]
  },
  {
   "cell_type": "code",
   "execution_count": null,
   "id": "c40c8e70-00a1-4172-9dd5-1cfdafc83795",
   "metadata": {},
   "outputs": [],
   "source": [
    "a = [np.random.randint(0, 10, size=(7, 7, 3)) for _ in range(100000)]\n",
    "b = torch.tensor(np.array(a))"
   ]
  },
  {
   "cell_type": "code",
   "execution_count": null,
   "id": "5629fb49-c87a-4e0e-b008-d4b3e3d55a9b",
   "metadata": {},
   "outputs": [],
   "source": [
    "a = [np.random.randint(0, 10, size=(7, 7, 3)) for _ in range(100000)]\n",
    "b = torch.tensor(a)"
   ]
  },
  {
   "cell_type": "code",
   "execution_count": null,
   "id": "3a644f52-2fdb-4872-8419-4597df5836ac",
   "metadata": {},
   "outputs": [],
   "source": []
  }
 ],
 "metadata": {
  "kernelspec": {
   "display_name": "Python 3 (ipykernel)",
   "language": "python",
   "name": "python3"
  },
  "language_info": {
   "codemirror_mode": {
    "name": "ipython",
    "version": 3
   },
   "file_extension": ".py",
   "mimetype": "text/x-python",
   "name": "python",
   "nbconvert_exporter": "python",
   "pygments_lexer": "ipython3",
   "version": "3.9.7"
  }
 },
 "nbformat": 4,
 "nbformat_minor": 5
}
